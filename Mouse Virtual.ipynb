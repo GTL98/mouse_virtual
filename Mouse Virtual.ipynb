{
 "cells": [
  {
   "cell_type": "markdown",
   "metadata": {},
   "source": [
    "***A aula explicando o passo a passo e o módulo para esse projeto estão no diretório: https://github.com/GTL98/curso-completo-de-visao-computacional-avancada-com-python***"
   ]
  },
  {
   "cell_type": "markdown",
   "metadata": {},
   "source": [
    "Antes devemos instalar a biblioteca `autopy` para que seja possível o controle do mouse pela webcam via **pip**:\n",
    "\n",
    "- pip install autopy\n",
    "\n",
    "As outras bibliotecas já vem instaladas por padrão no Jupyter."
   ]
  },
  {
   "cell_type": "markdown",
   "metadata": {},
   "source": [
    "### Importar as bibliotecas"
   ]
  },
  {
   "cell_type": "code",
   "execution_count": 1,
   "metadata": {},
   "outputs": [],
   "source": [
    "import cv2\n",
    "import time\n",
    "import autopy\n",
    "import numpy as np\n",
    "import rastreamento_mao as rm"
   ]
  },
  {
   "cell_type": "markdown",
   "metadata": {},
   "source": [
    "### Definir o tamanho da tela"
   ]
  },
  {
   "cell_type": "code",
   "execution_count": 2,
   "metadata": {},
   "outputs": [],
   "source": [
    "largura_tela = 640\n",
    "altura_tela = 480"
   ]
  },
  {
   "cell_type": "markdown",
   "metadata": {},
   "source": [
    "### Taxa de frame (FPS)"
   ]
  },
  {
   "cell_type": "code",
   "execution_count": 3,
   "metadata": {},
   "outputs": [],
   "source": [
    "tempo_anterior = 0\n",
    "tempo_atual = 0"
   ]
  },
  {
   "cell_type": "markdown",
   "metadata": {},
   "source": [
    "### Módulo `DetectorMao`"
   ]
  },
  {
   "cell_type": "code",
   "execution_count": 4,
   "metadata": {},
   "outputs": [],
   "source": [
    "detector = rm.DetectorMao(max_maos=1, deteccao_confianca=0.7, rastreamento_confianca=0.7)"
   ]
  },
  {
   "cell_type": "markdown",
   "metadata": {},
   "source": [
    "### Tamanho da tela do computador"
   ]
  },
  {
   "cell_type": "code",
   "execution_count": 5,
   "metadata": {},
   "outputs": [
    {
     "name": "stdout",
     "output_type": "stream",
     "text": [
      "Largura: 1366.0\n",
      "Altura: 768.0\n"
     ]
    }
   ],
   "source": [
    "largura_computador, altura_computador = autopy.screen.size()\n",
    "print(f'''Largura: {largura_computador}\n",
    "Altura: {altura_computador}''')"
   ]
  },
  {
   "cell_type": "markdown",
   "metadata": {},
   "source": [
    "### Delimitar o espaço que o programa reconhece o dedo"
   ]
  },
  {
   "cell_type": "code",
   "execution_count": 6,
   "metadata": {},
   "outputs": [],
   "source": [
    "limite_captura = 100"
   ]
  },
  {
   "cell_type": "markdown",
   "metadata": {},
   "source": [
    "### Suavidade do mouse"
   ]
  },
  {
   "cell_type": "code",
   "execution_count": 7,
   "metadata": {},
   "outputs": [],
   "source": [
    "suavidade = 5"
   ]
  },
  {
   "cell_type": "markdown",
   "metadata": {},
   "source": [
    "### Captura de vídeo"
   ]
  },
  {
   "cell_type": "code",
   "execution_count": 8,
   "metadata": {},
   "outputs": [],
   "source": [
    "cap = cv2.VideoCapture(0)\n",
    "cap.set(3, largura_tela)  # 3 para informar a largura\n",
    "cap.set(4, altura_tela)  # 4 para informar a altura\n",
    "\n",
    "x_anterior, y_anterior = 0, 0\n",
    "x_atual, y_atual = 0, 0\n",
    "\n",
    "while True:\n",
    "    # 1. Encontrar as landmarks da mão\n",
    "    sucesso, imagem = cap.read()\n",
    "    imagem = detector.encontrar_maos(imagem)\n",
    "    lista_landmark, caixa_limite = detector.encontrar_posicao(imagem)\n",
    "    \n",
    "    # 2. Captar a pontas dos dedos indicador e médio\n",
    "    if lista_landmark:\n",
    "        # Ponta do indicador\n",
    "        x1, y1 = lista_landmark[8][1:]\n",
    "        \n",
    "        # Ponta do médio\n",
    "        x2, y2 = lista_landmark[12][1:]\n",
    "        \n",
    "        # 3. Checar os dedos levantados\n",
    "        dedos = detector.dedos_levantados()\n",
    "        cv2.rectangle(imagem, (limite_captura, limite_captura),\n",
    "                      (largura_tela-limite_captura, altura_tela-limite_captura), (0, 0, 255), 2)\n",
    "    \n",
    "        # 4. Somente o indicador: mover o mouse\n",
    "        if dedos[1] == 1 and dedos[2] == 0:\n",
    "            # 5. Converter as cordenadas\n",
    "            x_mouse = np.interp(x1, (limite_captura, largura_tela-limite_captura), (0, largura_computador))\n",
    "            y_mouse = np.interp(y1, (limite_captura, altura_tela-limite_captura), (0, altura_computador))\n",
    "\n",
    "            # 6. Suavidade do movimento\n",
    "            x_atual = x_anterior + (x_mouse - x_anterior) / suavidade\n",
    "            y_atual = y_atual + (y_mouse - y_anterior) / suavidade\n",
    "\n",
    "            # 7. Movimento do mouse\n",
    "            autopy.mouse.move(largura_computador-x_atual, y_atual)\n",
    "            cv2.circle(imagem, (x1, y1), 15, (0, 0, 255), cv2.FILLED)\n",
    "            x_anterior, y_anterior = x_atual, y_atual\n",
    "\n",
    "        # 8. Indicador e médio levantados: clicar\n",
    "        if dedos[1] == 1 and dedos[2] == 1:\n",
    "            # 9. Encontrar a distância entre os dedos\n",
    "            comprimento, imagem, info_linha = detector.encontrar_distancia(8, 12, imagem)\n",
    "            # 10. Clicar se a distância entre os dedos for pequena\n",
    "            if comprimento < 30:\n",
    "                cv2.circle(imagem, (info_linha[4], info_linha[5]), 15, (0, 255, 0), cv2.FILLED)\n",
    "                autopy.mouse.click()\n",
    "    \n",
    "    # 11. Mostrar o FPS\n",
    "    tempo_atual = time.time()\n",
    "    fps = 1/(tempo_atual - tempo_anterior)\n",
    "    tempo_anterior = tempo_atual\n",
    "    cv2.putText(imagem, f'FPS: {int(fps)}', (20, 50), cv2.FONT_HERSHEY_PLAIN, 3, (255, 0, 0), 3)\n",
    "    \n",
    "    # 12. Mostrar a imagem na tela\n",
    "    cv2.imshow('Mouse Virtual', imagem)\n",
    "    \n",
    "    # 13. Terminar o loop\n",
    "    if cv2.waitKey(1) & 0xFF == ord('s'):\n",
    "        break\n",
    "        \n",
    "# 14. Fechar a tela de captura\n",
    "cap.release()\n",
    "cv2.destroyAllWindows()"
   ]
  }
 ],
 "metadata": {
  "kernelspec": {
   "display_name": "Python 3",
   "language": "python",
   "name": "python3"
  },
  "language_info": {
   "codemirror_mode": {
    "name": "ipython",
    "version": 3
   },
   "file_extension": ".py",
   "mimetype": "text/x-python",
   "name": "python",
   "nbconvert_exporter": "python",
   "pygments_lexer": "ipython3",
   "version": "3.8.5"
  }
 },
 "nbformat": 4,
 "nbformat_minor": 4
}
